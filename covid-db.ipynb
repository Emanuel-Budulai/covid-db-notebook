{
 "cells": [
  {
   "cell_type": "markdown",
   "id": "df8d0f6a",
   "metadata": {},
   "source": [
    "<a name=\"cell-TOC\"></a>\n",
    "### [Implementing a COVID-19 Vaccine Database](#cell-bg)\n",
    "0. [Background](#cell-bg)\n",
    "1. [Relations](#cell-rel)\n",
    "2. [Constraints](#cell-con)\n",
    "3. [Queries](#cell-queries)\n",
    "\n",
    "*Note that large portions of this specification are taken directly from the original assignment handout found in $\\texttt{a1_handout.pdf}$, and that this approach is intended to be rigorous enough to demonstrate problem-solving capacity, however by no means is it exhaustive or ready for deployment in a real-world setting.*"
   ]
  },
  {
   "cell_type": "markdown",
   "id": "52addb8b",
   "metadata": {},
   "source": [
    "<a name=\"cell-1\\bg\"></a>\n",
    "\n",
    "### 0. Background ([Return to TOC](#cell-TOC))\n",
    "---\n",
    "Vaccinating a large population against a rapidly evolving disease requires the administering body to maintain a careful record of personal, medical, and business-specific data.\n",
    "\n",
    "Here, vaccine batches are tracked from the factory that produces them. Their arrival time in Canada, and in the province or territory they are to be administered in, are recorded. Vaccines must be kept under refrigeration at each location and each vaccine site is required to record refridgerator temperatures each day. Each location is under government supervision and thus must undergo inspection at regular intervals. Minimum and maximum intervals for follow-up doses are also recorded. Each vial has a unique identifier.\n",
    "\n",
    "Patients, vaccine administrators and attendants are each recorded; both to follow up on subsequent doses (where required by the manufacturer), and to track vaccine efficacy and safety. Each patient’s covid status at the time of vaccination is recorded, and the time of the latest subsequent infection is recorded. Patients are observed by the attendants for at least 15 minutes after vaccination, and any bad reactions are treated and recorded. After each vaccination the patient will receive a text with a secure link to download their vaccination document as well as an access link to opt-in to use a mobile application where they can document any further reactions, receive official government updates on policy, report a positive test for contact tracing, and ask any questions they might have regarding the vaccine or Covid-19 and receive medical advice that is in line with regulations. If the patient opts-out of signing up for the application, they will instead only be contacted by text regarding any subsequent doses. Patient's who opt-out will still be able to ask questions through text."
   ]
  },
  {
   "cell_type": "markdown",
   "id": "b2c04fbb",
   "metadata": {},
   "source": [
    "<a name=\"cell-rel\"></a>\n",
    "\n",
    "### 1. Relations ([Return to TOC](#cell-TOC))\n",
    "---\n",
    "\n"
   ]
  },
  {
   "cell_type": "code",
   "execution_count": null,
   "id": "2dc844d3",
   "metadata": {},
   "outputs": [],
   "source": []
  },
  {
   "cell_type": "markdown",
   "id": "5e9cccd1",
   "metadata": {},
   "source": [
    "<a name=\"cell-con\"></a>\n",
    "\n",
    "### 2. Constraints ([Return to TOC](#cell-TOC))\n",
    "---"
   ]
  },
  {
   "cell_type": "code",
   "execution_count": null,
   "id": "0c17db35",
   "metadata": {},
   "outputs": [],
   "source": []
  },
  {
   "cell_type": "markdown",
   "id": "c485dcf9",
   "metadata": {},
   "source": [
    "<a name=\"cell-TOC\"></a>\n",
    "\n",
    "### 3. Queries ([Return to TOC](#cell-TOC))\n",
    "---"
   ]
  }
 ],
 "metadata": {
  "kernelspec": {
   "display_name": "Python 3 (ipykernel)",
   "language": "python",
   "name": "python3"
  },
  "language_info": {
   "codemirror_mode": {
    "name": "ipython",
    "version": 3
   },
   "file_extension": ".py",
   "mimetype": "text/x-python",
   "name": "python",
   "nbconvert_exporter": "python",
   "pygments_lexer": "ipython3",
   "version": "3.10.12"
  }
 },
 "nbformat": 4,
 "nbformat_minor": 5
}
